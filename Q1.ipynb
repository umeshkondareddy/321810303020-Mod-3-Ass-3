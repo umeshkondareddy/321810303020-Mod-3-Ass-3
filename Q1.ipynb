{
 "cells": [
  {
   "cell_type": "code",
   "execution_count": 5,
   "metadata": {},
   "outputs": [
    {
     "name": "stdout",
     "output_type": "stream",
     "text": [
      "Enter the string 1:akshai\n",
      "Enter the string 2:gowda\n",
      "akshai  gowda\n",
      "gkshai aowda\n"
     ]
    }
   ],
   "source": [
    "a=input(\"Enter the string 1:\")\n",
    "b=input(\"Enter the string 2:\")\n",
    "print(a,\"\",b)\n",
    "print(b[0],end='')\n",
    "print(a[1:],end=' ')\n",
    "print(a[0],end='')\n",
    "print(b[1:])"
   ]
  }
 ],
 "metadata": {
  "kernelspec": {
   "display_name": "Python 3",
   "language": "python",
   "name": "python3"
  },
  "language_info": {
   "codemirror_mode": {
    "name": "ipython",
    "version": 3
   },
   "file_extension": ".py",
   "mimetype": "text/x-python",
   "name": "python",
   "nbconvert_exporter": "python",
   "pygments_lexer": "ipython3",
   "version": "3.7.6"
  }
 },
 "nbformat": 4,
 "nbformat_minor": 4
}
