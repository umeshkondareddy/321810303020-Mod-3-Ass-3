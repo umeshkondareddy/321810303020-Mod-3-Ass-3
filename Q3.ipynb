{
 "cells": [
  {
   "cell_type": "code",
   "execution_count": 4,
   "metadata": {},
   "outputs": [
    {
     "name": "stdout",
     "output_type": "stream",
     "text": [
      "enter a string:mokshith gowda\n",
      "enter a position of a string to remove:9\n",
      "mokshith owda\n"
     ]
    }
   ],
   "source": [
    "def remove(str,i):\n",
    "    a = str[ : i]  \n",
    "    b = str[i + 1: ] \n",
    "    return a + b\n",
    "str=input(\"enter a string:\")\n",
    "i=int(input(\"enter a position of a string to remove:\"))\n",
    "print(remove(str, i)) "
   ]
  }
 ],
 "metadata": {
  "kernelspec": {
   "display_name": "Python 3",
   "language": "python",
   "name": "python3"
  },
  "language_info": {
   "codemirror_mode": {
    "name": "ipython",
    "version": 3
   },
   "file_extension": ".py",
   "mimetype": "text/x-python",
   "name": "python",
   "nbconvert_exporter": "python",
   "pygments_lexer": "ipython3",
   "version": "3.7.6"
  }
 },
 "nbformat": 4,
 "nbformat_minor": 4
}
